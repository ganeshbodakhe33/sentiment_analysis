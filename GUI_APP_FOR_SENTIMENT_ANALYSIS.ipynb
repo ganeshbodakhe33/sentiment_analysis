{
 "cells": [
  {
   "cell_type": "code",
   "execution_count": 1,
   "id": "8e253d05",
   "metadata": {},
   "outputs": [],
   "source": [
    "# Ganesh Bodakhe\n",
    "from tkinter import *\n",
    "from textblob import TextBlob\n",
    "from vaderSentiment.vaderSentiment import SentimentIntensityAnalyzer\n",
    "analyzer = SentimentIntensityAnalyzer()"
   ]
  },
  {
   "cell_type": "code",
   "execution_count": 3,
   "id": "5e710385",
   "metadata": {},
   "outputs": [],
   "source": [
    "# 1.)Create a window\n",
    "# 2.)Create widgets\n",
    "# 3.)Place widgets\n",
    "# 4.)Event handling"
   ]
  },
  {
   "cell_type": "code",
   "execution_count": 66,
   "id": "fba7e085",
   "metadata": {},
   "outputs": [],
   "source": [
    "# 1.)Create a window\n",
    "window = Tk()\n",
    "window.geometry('600x400')\n",
    "window.config(bg='aqua')\n",
    "window.title('Sentiment Analyzer')\n",
    "window.resizable(width=False,height=False)\n",
    "\n",
    "displayResult = StringVar()\n",
    "\n",
    "# 4.)Event handling\n",
    "def check_sentiment():\n",
    "    user_input = inputBox.get()\n",
    "    sentiment_score = analyzer.polarity_scores(user_input)\n",
    "#     print(sentiment_score)\n",
    "    if sentiment_score['compound'] >= 0.05:\n",
    "        displayResult.set('Positive')\n",
    "        inputBox.delete(0,END)\n",
    "    elif sentiment_score['compound'] <= 0.05:\n",
    "        displayResult.set('Negative')\n",
    "        inputBox.delete(0,END)\n",
    "    else:\n",
    "        displayResult.set('Neutral')\n",
    "        inputBox.delete(0,END)\n",
    "        \n",
    "# 2.)Create widgets\n",
    "title = Label(window,text='Sentiment analyzer',fg='black',bg='aqua',font=('Arial',14))\n",
    "slogan = Label(window,text='Put the Text, Test the Text!!',bg='aqua',font=('Arial',12))\n",
    "inputBox = Entry(window,font=('Arial',12))\n",
    "button1 = Button(window,text='Classify the text',fg='white',bg='orange',font=('Arial',14),command=check_sentiment)\n",
    "output = Label(window,textvariable=displayResult,fg='black',bg='aqua',font=('Arial',14))\n",
    "\n",
    "\n",
    "\n",
    "# 3.)Place widgets\n",
    "title.place(x=230,y=50)\n",
    "slogan.place(x=220,y=90)\n",
    "inputBox.place(x=220,y=130)\n",
    "button1.place(x=240,y=200)\n",
    "output.place(x=240,y=250)\n",
    "\n",
    "\n",
    "window.mainloop()"
   ]
  },
  {
   "cell_type": "code",
   "execution_count": 55,
   "id": "519c561f",
   "metadata": {},
   "outputs": [],
   "source": []
  },
  {
   "cell_type": "code",
   "execution_count": 11,
   "id": "4b4a18a4",
   "metadata": {},
   "outputs": [],
   "source": []
  }
 ],
 "metadata": {
  "kernelspec": {
   "display_name": "Python 3 (ipykernel)",
   "language": "python",
   "name": "python3"
  },
  "language_info": {
   "codemirror_mode": {
    "name": "ipython",
    "version": 3
   },
   "file_extension": ".py",
   "mimetype": "text/x-python",
   "name": "python",
   "nbconvert_exporter": "python",
   "pygments_lexer": "ipython3",
   "version": "3.11.5"
  }
 },
 "nbformat": 4,
 "nbformat_minor": 5
}
